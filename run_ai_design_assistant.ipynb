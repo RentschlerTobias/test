{
 "cells": [
  {
   "cell_type": "code",
   "execution_count": 1,
   "id": "f4da908d-0f2d-4874-a17a-19087d103526",
   "metadata": {},
   "outputs": [],
   "source": [
    "from learning_center import *\n",
    "from matplotlib import pyplot as plt\n",
    "import numpy as np"
   ]
  },
  {
   "cell_type": "code",
   "execution_count": 19,
   "id": "8e679156-5b28-4ddc-9bdd-7eb97ba477d0",
   "metadata": {},
   "outputs": [],
   "source": [
    "#runData = specify runData directory, CFD-Data is available on request.\n"
   ]
  },
  {
   "cell_type": "markdown",
   "id": "47175ba0-a243-43bb-ab64-8797bfc38b01",
   "metadata": {},
   "source": [
    "#### Initialize Design Assistant: ###"
   ]
  },
  {
   "cell_type": "code",
   "execution_count": 3,
   "id": "7a729dc1-62d8-4dd0-bbfd-6f967c1fa917",
   "metadata": {
    "scrolled": true
   },
   "outputs": [
    {
     "name": "stdout",
     "output_type": "stream",
     "text": [
      "First Object: Retrain first:\n",
      "*** Start Retrain ***\n",
      "Time taken for sorting and loading File-List: 4.32050895690918 seconds\n",
      "Time taken for loading: 1.4479317665100098 seconds\n",
      "Loaded Tensors from  b1\n",
      "Time taken for sorting and loading File-List: 0.20798397064208984 seconds\n",
      "Time taken for loading: 1.3325223922729492 seconds\n",
      "Loaded Tensors from  b2\n",
      "Time taken for sorting and loading File-List: 0.18379521369934082 seconds\n",
      "Time taken for loading: 1.1867871284484863 seconds\n",
      "Loaded Tensors from  b3\n",
      "Time taken for sorting and loading File-List: 0.20432162284851074 seconds\n",
      "Time taken for loading: 1.2073314189910889 seconds\n",
      "Loaded Tensors from  b4\n",
      "Time taken for sorting and loading File-List: 0.11960101127624512 seconds\n",
      "Time taken for loading: 1.2479865550994873 seconds\n",
      "Loaded Tensors from  b5\n",
      "Time taken for sorting and loading File-List: 0.12389087677001953 seconds\n",
      "Time taken for loading: 1.1089417934417725 seconds\n",
      "Loaded Tensors from  b6\n",
      "Time taken for sorting and loading File-List: 0.1200706958770752 seconds\n",
      "Time taken for loading: 1.2278530597686768 seconds\n",
      "Loaded Tensors from  b7\n",
      "Time taken for sorting and loading File-List: 0.11914348602294922 seconds\n",
      "Time taken for loading: 1.3022234439849854 seconds\n",
      "Loaded Tensors from  b8\n",
      "Final Scaling Factors: Channels: [1,2,3,4]\n",
      "[0.011169332913994783, 0.3874513296081335, 0.10034844128560476, 0.09539330579485293]\n",
      "Normalized Tensors.\n",
      "*** Loading Model clustering ***\n",
      "Pretrained: Loaded model_trained_b1.pth\n",
      "Pretrained: Loaded model_trained_b2.pth\n",
      "Pretrained: Loaded model_trained_b3.pth\n",
      "Pretrained: Loaded model_trained_b4.pth\n",
      "Pretrained: Loaded model_trained_b5.pth\n",
      "Pretrained: Loaded model_trained_b6.pth\n",
      "Pretrained: Loaded model_trained_b7.pth\n",
      "Pretrained: Loaded model_trained_b8.pth\n",
      "Got Latent Space Data. Delete Tensors...\n",
      "Cluster_Anzahl set to 20.\n",
      "Get Cluster IDs with SpectralClustering.\n",
      "Shape of Cluster_IDS_Assigned: (552, 8)\n",
      "[Amount of Individuals, Amount of FlowAreas]\n",
      "Fit-Grenze: Fitness Eta 40 Percent Quantile: 0.081.Fitness Eta Mean: 0.090. Max_ID: 1000\n",
      "Accuracy: 100.00% for area b1.\n",
      "Accuracy on Test-Data: 66.67% for area b1.\n",
      "Accuracy: 100.00% for area b2.\n",
      "Accuracy on Test-Data: 73.33% for area b2.\n",
      "Accuracy: 100.00% for area b3.\n",
      "Accuracy on Test-Data: 86.67% for area b3.\n",
      "Accuracy: 100.00% for area b4.\n",
      "Accuracy on Test-Data: 80.00% for area b4.\n",
      "Accuracy: 100.00% for area b5.\n",
      "Accuracy on Test-Data: 86.67% for area b5.\n",
      "Accuracy: 99.81% for area b6.\n",
      "Accuracy on Test-Data: 73.33% for area b6.\n",
      "Accuracy: 100.00% for area b7.\n",
      "Accuracy on Test-Data: 86.67% for area b7.\n",
      "Accuracy: 100.00% for area b8.\n",
      "Accuracy on Test-Data: 60.00% for area b8.\n",
      "*** Design Assistant Retraining Finished ***\n"
     ]
    }
   ],
   "source": [
    "l = learning_center(runData = runData, cluster_anzahl = 20)"
   ]
  },
  {
   "cell_type": "markdown",
   "id": "b1748953-e9ce-4e55-b2c4-2e173f55b27a",
   "metadata": {},
   "source": [
    "#### Train AutoEncoder: ###\n",
    "If use of cuda-capable device, use pretrained model."
   ]
  },
  {
   "cell_type": "code",
   "execution_count": 4,
   "id": "b704528e-9929-4c97-9777-58a5493bd99f",
   "metadata": {
    "scrolled": true
   },
   "outputs": [],
   "source": [
    "#l.train_model_c_all(max_iter = 40)"
   ]
  },
  {
   "cell_type": "markdown",
   "id": "fe3c2789-a344-4619-9e7a-af844b3ae383",
   "metadata": {},
   "source": [
    "#### Cluster Latent Space: ###\n",
    "Extraction of latent data, clustering and assignment of cluster-ids.\n",
    "(Routine is already executed when initializing first object of learning_center,\n",
    "following methods provide manual workflow.)"
   ]
  },
  {
   "cell_type": "code",
   "execution_count": 5,
   "id": "0bb2ae27-c545-489b-b410-e02ae8c3af4f",
   "metadata": {},
   "outputs": [
    {
     "name": "stdout",
     "output_type": "stream",
     "text": [
      "Time taken for sorting and loading File-List: 4.2134222984313965 seconds\n",
      "Time taken for loading: 0.27518653869628906 seconds\n",
      "Loaded Tensors from  b1\n",
      "Time taken for sorting and loading File-List: 0.12662053108215332 seconds\n",
      "Time taken for loading: 0.6418354511260986 seconds\n",
      "Loaded Tensors from  b2\n",
      "Time taken for sorting and loading File-List: 0.12044930458068848 seconds\n",
      "Time taken for loading: 1.2439351081848145 seconds\n",
      "Loaded Tensors from  b3\n",
      "Time taken for sorting and loading File-List: 0.1204841136932373 seconds\n",
      "Time taken for loading: 1.2178151607513428 seconds\n",
      "Loaded Tensors from  b4\n",
      "Time taken for sorting and loading File-List: 0.12109518051147461 seconds\n",
      "Time taken for loading: 1.2230346202850342 seconds\n",
      "Loaded Tensors from  b5\n",
      "Time taken for sorting and loading File-List: 0.11977887153625488 seconds\n",
      "Time taken for loading: 1.1574194431304932 seconds\n",
      "Loaded Tensors from  b6\n",
      "Time taken for sorting and loading File-List: 0.11956405639648438 seconds\n",
      "Time taken for loading: 1.085615873336792 seconds\n",
      "Loaded Tensors from  b7\n",
      "Time taken for sorting and loading File-List: 0.12024545669555664 seconds\n",
      "Time taken for loading: 1.1282682418823242 seconds\n",
      "Loaded Tensors from  b8\n",
      "Final Scaling Factors: Channels: [1,2,3,4]\n",
      "[0.011169332913994783, 0.3874513296081335, 0.10034844128560476, 0.09539330579485293]\n",
      "Normalized Tensors.\n",
      "Got Latent Space Data. Delete Tensors...\n",
      "Get Cluster IDs with SpectralClustering.\n",
      "Shape of Cluster_IDS_Assigned: (552, 8)\n",
      "[Amount of Individuals, Amount of FlowAreas]\n",
      "Fit-Grenze: Fitness Eta 40 Percent Quantile: 0.081.Fitness Eta Mean: 0.090. Max_ID: 1000\n"
     ]
    }
   ],
   "source": [
    "l.load_tensors(normalize = True)\n",
    "l.get_latent_data()\n",
    "l.get_cluster_ids(mode = 'all')"
   ]
  },
  {
   "cell_type": "markdown",
   "id": "1bcbb3fc-2de3-4c29-a020-04f4fb00ce15",
   "metadata": {},
   "source": [
    "#### NN Mapping for Cluster-ID Prediction: ####\n",
    "Multiclass Prediction Neural Network is trained to predict future turbines' cluster-id.\n",
    "Testdata are the latest individuals (size_testdata).\n",
    "(Routine is already executed when initializing first object of learning_center,\n",
    "following methods provide manual workflow.)"
   ]
  },
  {
   "cell_type": "code",
   "execution_count": 6,
   "id": "d3e5e470-41aa-446b-9776-2d78dce60f2d",
   "metadata": {
    "scrolled": true
   },
   "outputs": [
    {
     "name": "stdout",
     "output_type": "stream",
     "text": [
      "Accuracy: 100.00% for area b1.\n",
      "Accuracy on Test-Data: 73.33% for area b1.\n",
      "Accuracy: 100.00% for area b2.\n",
      "Accuracy on Test-Data: 73.33% for area b2.\n",
      "Accuracy: 100.00% for area b3.\n",
      "Accuracy on Test-Data: 86.67% for area b3.\n",
      "Accuracy: 100.00% for area b4.\n",
      "Accuracy on Test-Data: 80.00% for area b4.\n",
      "Accuracy: 100.00% for area b5.\n",
      "Accuracy on Test-Data: 93.33% for area b5.\n",
      "Accuracy: 100.00% for area b6.\n",
      "Accuracy on Test-Data: 80.00% for area b6.\n",
      "Accuracy: 99.63% for area b7.\n",
      "Accuracy on Test-Data: 86.67% for area b7.\n",
      "Accuracy: 100.00% for area b8.\n",
      "Accuracy on Test-Data: 60.00% for area b8.\n"
     ]
    }
   ],
   "source": [
    "l.fit_data(solver='lbfgs', validation_fraction=0.1, hidden_layer = (64,54), size_testdata = 15, activation = 'relu' )"
   ]
  },
  {
   "cell_type": "markdown",
   "id": "273e31bf-056a-4626-ba8a-902f85b53a0f",
   "metadata": {},
   "source": [
    "#### Have a look at the results: ####"
   ]
  },
  {
   "cell_type": "code",
   "execution_count": 7,
   "id": "56ffc3c6-4410-4ac5-ac77-1025eeee0aae",
   "metadata": {},
   "outputs": [],
   "source": [
    "#Choose turbine your are interested in:\n",
    "case_id = 594"
   ]
  },
  {
   "cell_type": "code",
   "execution_count": 8,
   "id": "60511a37-864e-49c6-9581-6968021f8c9b",
   "metadata": {},
   "outputs": [
    {
     "name": "stdout",
     "output_type": "stream",
     "text": [
      "Case-Data for T1_594.\n",
      "[Fmean,        F,           Objectives]\n"
     ]
    },
    {
     "data": {
      "text/plain": [
       "[0.08321132916698967,\n",
       " array([0.07425706, 0.00443709, 0.17093984]),\n",
       " array([-0.06271652, -0.03919215, -0.13290157,  0.01856896,  0.02762934,\n",
       "        -0.00737009,  1.40571374,  1.16890676,  1.35450633,  0.4140224 ,\n",
       "         0.44333802,  0.52739265, -0.04833411, -0.09692301, -0.1216935 ,\n",
       "         0.55247893,  0.87912153,  1.18555713,  0.05316972,  0.05490793,\n",
       "         0.04373558,  0.02994582,  0.03254256,  0.04723693,  0.00625185,\n",
       "         0.02125665,  0.04089324,  0.54722101,  0.43719302,  0.55978769])]"
      ]
     },
     "execution_count": 8,
     "metadata": {},
     "output_type": "execute_result"
    }
   ],
   "source": [
    "l.get_data(case_id)"
   ]
  },
  {
   "cell_type": "code",
   "execution_count": 9,
   "id": "cbae72b5-26b2-4a55-82cc-81bb40e09e07",
   "metadata": {},
   "outputs": [
    {
     "name": "stdout",
     "output_type": "stream",
     "text": [
      "Cluster_id for case T1_594\n"
     ]
    },
    {
     "data": {
      "text/plain": [
       "array([[19, 12,  5, 19,  3,  1,  8, 17]], dtype=int32)"
      ]
     },
     "execution_count": 9,
     "metadata": {},
     "output_type": "execute_result"
    }
   ],
   "source": [
    "cluster_id = l.give_cluster_id(case_id)\n",
    "cluster_id"
   ]
  },
  {
   "cell_type": "code",
   "execution_count": 10,
   "id": "f378a606-c3c7-43a9-a386-e0d82b0743f4",
   "metadata": {},
   "outputs": [
    {
     "name": "stdout",
     "output_type": "stream",
     "text": [
      "See all individuals with cluster-id: [19 12  5 19  3  1  8 17].\n",
      "[CaseIDs,   Objectives,   Fitness-Werte,   Fitness-Mittelwert, Eta, dH , VCav, P ]\n"
     ]
    },
    {
     "data": {
      "text/plain": [
       "[array(['T1_266_all', 'T1_594_all', 'T1_770_all', 'T1_873_all',\n",
       "        'T1_964_all'], dtype='<U10'),\n",
       " array([[-0.06216019, -0.03919215, -0.13285037,  0.01856896,  0.02762934,\n",
       "         -0.00737009,  1.38312541,  1.16846291,  1.35451941,  0.4140224 ,\n",
       "          0.44324906,  0.5277396 , -0.05131991, -0.09692301, -0.1216935 ,\n",
       "          0.55247893,  0.78869818,  1.18555713,  0.05316972,  0.01719972,\n",
       "          0.03847452,  0.02994582,  0.03254256,  0.04723693,  0.00740983,\n",
       "          0.02126176,  0.04061497,  0.54717738,  0.43752186,  0.46747829],\n",
       "        [-0.06271652, -0.03919215, -0.13290157,  0.01856896,  0.02762934,\n",
       "         -0.00737009,  1.40571374,  1.16890676,  1.35450633,  0.4140224 ,\n",
       "          0.44333802,  0.52739265, -0.04833411, -0.09692301, -0.1216935 ,\n",
       "          0.55247893,  0.87912153,  1.18555713,  0.05316972,  0.05490793,\n",
       "          0.04373558,  0.02994582,  0.03254256,  0.04723693,  0.00625185,\n",
       "          0.02125665,  0.04089324,  0.54722101,  0.43719302,  0.55978769],\n",
       "        [-0.06216019, -0.03919215, -0.13273523,  0.01654286,  0.02762934,\n",
       "         -0.00848169,  1.38312541,  1.16856922,  1.35451941,  0.4140224 ,\n",
       "          0.44324906,  0.5277396 , -0.05131991, -0.09692301, -0.12169099,\n",
       "          0.56001589,  0.78869818,  1.1864927 ,  0.05300852,  0.01719972,\n",
       "          0.03823674,  0.02994601,  0.03254256,  0.03597315,  0.00740983,\n",
       "          0.02126176,  0.04061497,  0.54717738,  0.44155061,  0.46747829],\n",
       "        [-0.06216019, -0.03919215, -0.13285037,  0.01856896,  0.02762934,\n",
       "         -0.00737009,  1.38312541,  1.16846291,  1.35451941,  0.4140224 ,\n",
       "          0.44324906,  0.5277396 , -0.05131991, -0.09692301, -0.1216935 ,\n",
       "          0.55247893,  0.78869818,  1.18555713,  0.05316972,  0.01719972,\n",
       "          0.03847452,  0.02994582,  0.03254256,  0.04723693,  0.00740983,\n",
       "          0.02126176,  0.04061497,  0.54717738,  0.43752186,  0.46747829],\n",
       "        [-0.05998138, -0.03919215, -0.13217675,  0.01856896,  0.02701368,\n",
       "         -0.00768874,  1.38312541,  1.16987218,  1.34770725,  0.46901519,\n",
       "          0.49011403,  0.52809683, -0.05131991, -0.1022818 , -0.1216935 ,\n",
       "          0.55247893,  0.87176204,  1.18555713,  0.05316972,  0.01719972,\n",
       "          0.03847452,  0.02994582,  0.03254256,  0.04723693,  0.00740983,\n",
       "          0.02126176,  0.04061497,  0.54717738,  0.43752186,  0.46747829]]),\n",
       " array([[0.06981368, 0.00190452, 0.02268668],\n",
       "        [0.07425706, 0.00443709, 0.17093984],\n",
       "        [0.06736908, 0.00176462, 0.01752699],\n",
       "        [0.06981368, 0.00190452, 0.02268668],\n",
       "        [0.06839043, 0.00124509, 0.00914851]]),\n",
       " array([0.03146829, 0.08321133, 0.0288869 , 0.03146829, 0.02626134]),\n",
       " array([[-0.92386706, -0.93475739, -0.93193449],\n",
       "        [-0.91794817, -0.92980311, -0.92947754],\n",
       "        [-0.92619072, -0.93750427, -0.93419778],\n",
       "        [-0.92386706, -0.93475739, -0.93193449],\n",
       "        [-0.92429278, -0.93671821, -0.93381772]]),\n",
       " array([[-1.49471703, -2.42268668, -3.3062063 ],\n",
       "        [-1.59257245, -2.57093984, -3.52789033],\n",
       "        [-1.46084788, -2.38247301, -3.26906017],\n",
       "        [-1.49471703, -2.42268668, -3.3062063 ],\n",
       "        [-1.44578305, -2.39085149, -3.29662411]]),\n",
       " array([[1.63906200e-07, 1.40661223e-04, 5.57274389e-03],\n",
       "        [3.03431600e-07, 2.14024556e-03, 1.11707201e-02],\n",
       "        [6.62562300e-06, 1.12945224e-04, 5.17430087e-03],\n",
       "        [1.63906200e-07, 1.40661223e-04, 5.57274389e-03],\n",
       "        [5.00131000e-07, 3.91775900e-05, 3.69558653e-03]]),\n",
       " array([[-203587.08401736, -392788.68757225, -614576.54112979],\n",
       "        [-215525.72325141, -414615.67731699, -654055.52512651],\n",
       "        [-199474.40230947, -387403.96019323, -609147.39302187],\n",
       "        [-203587.08401736, -392788.68757225, -614576.54112979],\n",
       "        [-197012.79864129, -388440.38320954, -614033.66849524]])]"
      ]
     },
     "execution_count": 10,
     "metadata": {},
     "output_type": "execute_result"
    }
   ],
   "source": [
    "print(f\"See all individuals with cluster-id: {cluster_id[0]}.\")\n",
    "l.give_fitness(cluster_id)"
   ]
  },
  {
   "cell_type": "code",
   "execution_count": 11,
   "id": "6618019c-e7af-434a-b62b-431e57d1215a",
   "metadata": {},
   "outputs": [
    {
     "name": "stdout",
     "output_type": "stream",
     "text": [
      "Best performing five cluster-ids\n"
     ]
    },
    {
     "data": {
      "text/plain": [
       "[array([17,  1,  9,  0,  0,  6, 17, 11], dtype=int32),\n",
       " array([11,  3, 19,  1, 10,  6,  8, 17], dtype=int32),\n",
       " array([19, 12,  5, 19,  3,  1,  8, 17], dtype=int32),\n",
       " array([14,  7, 12, 19, 17, 19,  1,  7], dtype=int32),\n",
       " array([ 8, 18,  4,  1, 10, 19, 13, 14], dtype=int32)]"
      ]
     },
     "execution_count": 11,
     "metadata": {},
     "output_type": "execute_result"
    }
   ],
   "source": [
    "print('Best performing five cluster-ids')\n",
    "l.cluster_ids_valued[0][0:5]"
   ]
  },
  {
   "cell_type": "code",
   "execution_count": 12,
   "id": "e11a59d2-7a60-4bc9-9ed1-5fc493db8bee",
   "metadata": {},
   "outputs": [],
   "source": [
    "#l.give_fitness(l.cluster_ids_valued[0][2])"
   ]
  },
  {
   "cell_type": "markdown",
   "id": "1bf725ed-b1ba-418a-afa4-84184f85a50a",
   "metadata": {},
   "source": [
    "#### Plot Pressure Field of Cluster-ID: ####"
   ]
  },
  {
   "cell_type": "code",
   "execution_count": 13,
   "id": "745c8e5e-ffa0-4c05-a6fb-72690d164e5e",
   "metadata": {},
   "outputs": [
    {
     "name": "stdout",
     "output_type": "stream",
     "text": [
      "Time taken for sorting and loading File-List: 3.978912591934204 seconds\n",
      "Time taken for loading: 0.27406764030456543 seconds\n",
      "Loaded Tensors from  b1\n",
      "Time taken for sorting and loading File-List: 0.11732196807861328 seconds\n",
      "Time taken for loading: 0.26598572731018066 seconds\n",
      "Loaded Tensors from  b2\n",
      "Time taken for sorting and loading File-List: 0.11980056762695312 seconds\n",
      "Time taken for loading: 0.26961255073547363 seconds\n",
      "Loaded Tensors from  b3\n",
      "Time taken for sorting and loading File-List: 0.12273859977722168 seconds\n",
      "Time taken for loading: 0.23296451568603516 seconds\n",
      "Loaded Tensors from  b4\n",
      "Time taken for sorting and loading File-List: 0.12165212631225586 seconds\n",
      "Time taken for loading: 0.4643228054046631 seconds\n",
      "Loaded Tensors from  b5\n",
      "Time taken for sorting and loading File-List: 0.1247565746307373 seconds\n",
      "Time taken for loading: 3.32281756401062 seconds\n",
      "Loaded Tensors from  b6\n",
      "Time taken for sorting and loading File-List: 0.11967849731445312 seconds\n",
      "Time taken for loading: 3.2474772930145264 seconds\n",
      "Loaded Tensors from  b7\n",
      "Time taken for sorting and loading File-List: 0.12297463417053223 seconds\n",
      "Time taken for loading: 3.0743019580841064 seconds\n",
      "Loaded Tensors from  b8\n",
      "Final Scaling Factors: Channels: [1,2,3,4]\n",
      "[0.011169332913994783, 0.3874513296081335, 0.10034844128560476, 0.09539330579485293]\n",
      "Normalized Tensors.\n"
     ]
    }
   ],
   "source": [
    "### you must reload Tensors befor plotting is possible ###\n",
    "l.load_tensors()"
   ]
  },
  {
   "cell_type": "code",
   "execution_count": 14,
   "id": "27b5a84e-8b17-4ec0-85b0-2056079553e1",
   "metadata": {},
   "outputs": [
    {
     "data": {
      "image/png": "[encoded data removed]",
      "text/plain": [
       "<Figure size 1800x500 with 1 Axes>"
      ]
     },
     "metadata": {},
     "output_type": "display_data"
    }
   ],
   "source": [
    "l.plot_tensor_all(cluster_id[0])"
   ]
  },
  {
   "cell_type": "markdown",
   "id": "17cb5e17-d1d7-4e42-b8a5-4597e40a263c",
   "metadata": {},
   "source": [
    "#### Recommendation and Prediction based on DOFs (x): ####\n",
    "Obviously, already simulated cases aren't that hard to predict.\n",
    "But nevertheless here given as an example:"
   ]
  },
  {
   "cell_type": "code",
   "execution_count": 15,
   "id": "b9063542-dea0-4bd2-97fc-05405a0388e4",
   "metadata": {
    "scrolled": true
   },
   "outputs": [
    {
     "name": "stdout",
     "output_type": "stream",
     "text": [
      "Recommendation for DOFs:\n",
      "\n",
      "EVAL CONTER = 1\n",
      "Gaussian Process with dim = 3.\n",
      "Recommend Sim: True. Known Cluster_ID: True. Gaussian Estimation: True.\n",
      "Predicted Fitness: [0.07419492 0.00440863 0.16967701]\n",
      "Correct Fitness: [0.07425706 0.00443709 0.17093984]\n"
     ]
    }
   ],
   "source": [
    "case_id = 594\n",
    "x = l.case_data[1][case_id - 1 ]\n",
    "\n",
    "print(\"Recommendation for DOFs:\\n\")\n",
    "recommend = l.recommend_sim([x])\n",
    "\n",
    "print(f'Correct Fitness: {l.case_data[2][case_id-1]}')"
   ]
  },
  {
   "cell_type": "markdown",
   "id": "47d67705-bf26-4814-ba27-dc56228c9f0e",
   "metadata": {},
   "source": [
    "Test on unkown data:"
   ]
  },
  {
   "cell_type": "code",
   "execution_count": 17,
   "id": "2063c393-a812-4a33-bec3-d8e35cb1c120",
   "metadata": {},
   "outputs": [],
   "source": [
    "objectives = np.load('./prediction_data/objectives.npy')\n",
    "fitness_resimulated = np.load('./prediction_data/fitness.npy')"
   ]
  },
  {
   "cell_type": "code",
   "execution_count": 18,
   "id": "1d2771a7-1d68-42d7-9667-ed5d63a42636",
   "metadata": {},
   "outputs": [
    {
     "name": "stdout",
     "output_type": "stream",
     "text": [
      "EVAL CONTER = 2\n",
      "Recommend Sim: False. Known Cluster_ID: True. Gaussian Estimation: False.\n",
      "Predicted Fitness: [0.09107862 0.00443665 0.03530737]\n",
      "Correct Fitness: [0.09333277 0.00439002 0.0331774 ].\n"
     ]
    }
   ],
   "source": [
    "#case_predict = np.random.randint(0,objectives.shape[0])\n",
    "case_predict = 1\n",
    "recommend = l.recommend_sim([objectives[case_predict]])\n",
    "print(f\"Correct Fitness: {fitness_resimulated[case_predict]}.\")"
   ]
  },
  {
   "cell_type": "code",
   "execution_count": null,
   "id": "fe9257b1-4fe9-4701-86d6-4d4b029b65ba",
   "metadata": {},
   "outputs": [],
   "source": []
  }
 ],
 "metadata": {
  "kernelspec": {
   "display_name": "Python 3 (ipykernel)",
   "language": "python",
   "name": "python3"
  },
  "language_info": {
   "codemirror_mode": {
    "name": "ipython",
    "version": 3
   },
   "file_extension": ".py",
   "mimetype": "text/x-python",
   "name": "python",
   "nbconvert_exporter": "python",
   "pygments_lexer": "ipython3",
   "version": "3.11.10"
  }
 },
 "nbformat": 4,
 "nbformat_minor": 5
}
