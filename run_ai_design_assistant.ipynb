{
 "cells": [
  {
   "cell_type": "code",
   "execution_count": 1,
   "id": "f4da908d-0f2d-4874-a17a-19087d103526",
   "metadata": {},
   "outputs": [],
   "source": [
    "from learning_center import *\n",
    "from matplotlib import pyplot as plt\n",
    "import numpy as np"
   ]
  },
  {
   "cell_type": "code",
   "execution_count": 19,
   "id": "8e679156-5b28-4ddc-9bdd-7eb97ba477d0",
   "metadata": {},
   "outputs": [],
   "source": [
    "#runData = specify runData directory, CFD-Data is available on request."
   ]
  },
  {
   "cell_type": "markdown",
   "id": "47175ba0-a243-43bb-ab64-8797bfc38b01",
   "metadata": {},
   "source": [
    "#### Initialize design assistant: ###"
   ]
  },
  {
   "cell_type": "code",
   "execution_count": 3,
   "id": "7a729dc1-62d8-4dd0-bbfd-6f967c1fa917",
   "metadata": {
    "scrolled": true
   },
   "outputs": [
    {
     "name": "stdout",
     "output_type": "stream",
     "text": [
      "First Object: Retrain first:\n",
      "*** Start Retrain ***\n",
      "Time taken for sorting and loading File-List: 4.704426288604736 seconds\n",
      "Time taken for loading: 1.5360240936279297 seconds\n",
      "Loaded Tensors from  b1\n",
      "Time taken for sorting and loading File-List: 0.1230778694152832 seconds\n",
      "Time taken for loading: 1.4883673191070557 seconds\n",
      "Loaded Tensors from  b2\n",
      "Time taken for sorting and loading File-List: 0.1217648983001709 seconds\n",
      "Time taken for loading: 1.2432265281677246 seconds\n",
      "Loaded Tensors from  b3\n",
      "Time taken for sorting and loading File-List: 0.12354373931884766 seconds\n",
      "Time taken for loading: 1.2343425750732422 seconds\n",
      "Loaded Tensors from  b4\n",
      "Time taken for sorting and loading File-List: 0.12402224540710449 seconds\n",
      "Time taken for loading: 1.2116708755493164 seconds\n",
      "Loaded Tensors from  b5\n",
      "Time taken for sorting and loading File-List: 0.12572717666625977 seconds\n",
      "Time taken for loading: 1.231553316116333 seconds\n",
      "Loaded Tensors from  b6\n",
      "Time taken for sorting and loading File-List: 0.12253165245056152 seconds\n",
      "Time taken for loading: 1.1952316761016846 seconds\n",
      "Loaded Tensors from  b7\n",
      "Time taken for sorting and loading File-List: 0.12356352806091309 seconds\n",
      "Time taken for loading: 1.233785629272461 seconds\n",
      "Loaded Tensors from  b8\n",
      "Final Scaling Factors: Channels: [1,2,3,4]\n",
      "[0.011169332913994783, 0.3874513296081335, 0.10034844128560476, 0.09539330579485293]\n",
      "Normalized Tensors.\n",
      "*** Loading Model clustering ***\n",
      "Pretrained: Loaded model_trained_b1.pth\n",
      "Pretrained: Loaded model_trained_b2.pth\n",
      "Pretrained: Loaded model_trained_b3.pth\n",
      "Pretrained: Loaded model_trained_b4.pth\n",
      "Pretrained: Loaded model_trained_b5.pth\n",
      "Pretrained: Loaded model_trained_b6.pth\n",
      "Pretrained: Loaded model_trained_b7.pth\n",
      "Pretrained: Loaded model_trained_b8.pth\n",
      "Got Latent Space Data. Delete Tensors...\n",
      "Cluster_Anzahl set to 20.\n",
      "Get Cluster IDs with SpectralClustering.\n",
      "Shape of Cluster_IDS_Assigned: (552, 8)\n",
      "[Amount of Individuals, Amount of FlowAreas]\n",
      "Fit-Grenze: Fitness Eta 40 Percent Quantile: 0.081.Fitness Eta Mean: 0.090. Max_ID: 1000\n",
      "Accuracy: 100.00% for area b1.\n",
      "Accuracy on Test-Data: 73.33% for area b1.\n",
      "Accuracy: 100.00% for area b2.\n",
      "Accuracy on Test-Data: 66.67% for area b2.\n",
      "Accuracy: 100.00% for area b3.\n",
      "Accuracy on Test-Data: 86.67% for area b3.\n",
      "Accuracy: 100.00% for area b4.\n",
      "Accuracy on Test-Data: 73.33% for area b4.\n",
      "Accuracy: 100.00% for area b5.\n",
      "Accuracy on Test-Data: 86.67% for area b5.\n",
      "Accuracy: 100.00% for area b6.\n",
      "Accuracy on Test-Data: 80.00% for area b6.\n",
      "Accuracy: 99.63% for area b7.\n",
      "Accuracy on Test-Data: 80.00% for area b7.\n",
      "Accuracy: 100.00% for area b8.\n",
      "Accuracy on Test-Data: 80.00% for area b8.\n",
      "*** Design Assistant Retraining Finished ***\n"
     ]
    }
   ],
   "source": [
    "l = learning_center(runData = runData, cluster_anzahl = 20)"
   ]
  },
  {
   "cell_type": "markdown",
   "id": "b1748953-e9ce-4e55-b2c4-2e173f55b27a",
   "metadata": {},
   "source": [
    "#### Train AutoEncoder: ###\n",
    "If use of cuda-capable device, use pretrained model."
   ]
  },
  {
   "cell_type": "code",
   "execution_count": 4,
   "id": "b704528e-9929-4c97-9777-58a5493bd99f",
   "metadata": {
    "scrolled": true
   },
   "outputs": [],
   "source": [
    "#l.train_model_c_all(max_iter = 40)"
   ]
  },
  {
   "cell_type": "markdown",
   "id": "fe3c2789-a344-4619-9e7a-af844b3ae383",
   "metadata": {},
   "source": [
    "#### Cluster Latent Space: ###\n",
    "Extracting latent data, clustering and assessment of cluster-ids.\n",
    "(Routine is already executed when initializing first object of learning_center,\n",
    "following methods provide manual workflow )"
   ]
  },
  {
   "cell_type": "code",
   "execution_count": 5,
   "id": "0bb2ae27-c545-489b-b410-e02ae8c3af4f",
   "metadata": {},
   "outputs": [
    {
     "name": "stdout",
     "output_type": "stream",
     "text": [
      "Time taken for sorting and loading File-List: 4.489010810852051 seconds\n",
      "Time taken for loading: 0.2712743282318115 seconds\n",
      "Loaded Tensors from  b1\n",
      "Time taken for sorting and loading File-List: 0.1200709342956543 seconds\n",
      "Time taken for loading: 0.6833629608154297 seconds\n",
      "Loaded Tensors from  b2\n",
      "Time taken for sorting and loading File-List: 0.12537860870361328 seconds\n",
      "Time taken for loading: 1.2613284587860107 seconds\n",
      "Loaded Tensors from  b3\n",
      "Time taken for sorting and loading File-List: 0.12307476997375488 seconds\n",
      "Time taken for loading: 1.2746365070343018 seconds\n",
      "Loaded Tensors from  b4\n",
      "Time taken for sorting and loading File-List: 0.14341187477111816 seconds\n",
      "Time taken for loading: 1.2871718406677246 seconds\n",
      "Loaded Tensors from  b5\n",
      "Time taken for sorting and loading File-List: 0.12305736541748047 seconds\n",
      "Time taken for loading: 1.164435625076294 seconds\n",
      "Loaded Tensors from  b6\n",
      "Time taken for sorting and loading File-List: 0.1277153491973877 seconds\n",
      "Time taken for loading: 1.1592648029327393 seconds\n",
      "Loaded Tensors from  b7\n",
      "Time taken for sorting and loading File-List: 0.124237060546875 seconds\n",
      "Time taken for loading: 1.1119909286499023 seconds\n",
      "Loaded Tensors from  b8\n",
      "Final Scaling Factors: Channels: [1,2,3,4]\n",
      "[0.011169332913994783, 0.3874513296081335, 0.10034844128560476, 0.09539330579485293]\n",
      "Normalized Tensors.\n",
      "Got Latent Space Data. Delete Tensors...\n",
      "Get Cluster IDs with KMeans.\n",
      "Shape of Cluster_IDS_Assigned: (552, 8)\n",
      "[Amount of Individuals, Amount of FlowAreas]\n",
      "Fit-Grenze: Fitness Eta 40 Percent Quantile: 0.081.Fitness Eta Mean: 0.090. Max_ID: 1000\n"
     ]
    }
   ],
   "source": [
    "l.load_tensors(normalize = True)\n",
    "l.get_latent_data()\n",
    "l.get_cluster_ids(mode = 'all')"
   ]
  },
  {
   "cell_type": "markdown",
   "id": "1bcbb3fc-2de3-4c29-a020-04f4fb00ce15",
   "metadata": {},
   "source": [
    "#### NN Mapping for Cluster-ID Prediction: ####\n",
    "Multiclass Prediction Neural Network is trained to predict future turbines' cluster-id.\n",
    "Testdata are the latest size_testdata individuals.\n",
    "(Routine is already executed when initializing first object of learning_center,\n",
    "following methods provide manual workflow )"
   ]
  },
  {
   "cell_type": "code",
   "execution_count": 6,
   "id": "d3e5e470-41aa-446b-9776-2d78dce60f2d",
   "metadata": {
    "scrolled": true
   },
   "outputs": [
    {
     "name": "stdout",
     "output_type": "stream",
     "text": [
      "Accuracy: 100.00% for area b1.\n",
      "Accuracy on Test-Data: 73.33% for area b1.\n",
      "Accuracy: 100.00% for area b2.\n",
      "Accuracy on Test-Data: 73.33% for area b2.\n",
      "Accuracy: 100.00% for area b3.\n",
      "Accuracy on Test-Data: 66.67% for area b3.\n",
      "Accuracy: 100.00% for area b4.\n",
      "Accuracy on Test-Data: 73.33% for area b4.\n",
      "Accuracy: 100.00% for area b5.\n",
      "Accuracy on Test-Data: 66.67% for area b5.\n",
      "Accuracy: 99.63% for area b6.\n",
      "Accuracy on Test-Data: 86.67% for area b6.\n",
      "Accuracy: 99.63% for area b7.\n",
      "Accuracy on Test-Data: 80.00% for area b7.\n",
      "Accuracy: 100.00% for area b8.\n",
      "Accuracy on Test-Data: 86.67% for area b8.\n"
     ]
    }
   ],
   "source": [
    "l.fit_data(solver='lbfgs', validation_fraction=0.1, hidden_layer = (64,54), size_testdata = 15, activation = 'relu' )"
   ]
  },
  {
   "cell_type": "markdown",
   "id": "273e31bf-056a-4626-ba8a-902f85b53a0f",
   "metadata": {},
   "source": [
    "#### Have a look at the results: ####"
   ]
  },
  {
   "cell_type": "code",
   "execution_count": 7,
   "id": "56ffc3c6-4410-4ac5-ac77-1025eeee0aae",
   "metadata": {},
   "outputs": [],
   "source": [
    "#Choose turbine your are interested in:\n",
    "case_id = 594"
   ]
  },
  {
   "cell_type": "code",
   "execution_count": 8,
   "id": "60511a37-864e-49c6-9581-6968021f8c9b",
   "metadata": {},
   "outputs": [
    {
     "name": "stdout",
     "output_type": "stream",
     "text": [
      "Case-Data for T1_594.\n",
      "[Fmean,        F,           Objectives]\n"
     ]
    },
    {
     "data": {
      "text/plain": [
       "[0.08321132916698967,\n",
       " array([0.07425706, 0.00443709, 0.17093984]),\n",
       " array([-0.06271652, -0.03919215, -0.13290157,  0.01856896,  0.02762934,\n",
       "        -0.00737009,  1.40571374,  1.16890676,  1.35450633,  0.4140224 ,\n",
       "         0.44333802,  0.52739265, -0.04833411, -0.09692301, -0.1216935 ,\n",
       "         0.55247893,  0.87912153,  1.18555713,  0.05316972,  0.05490793,\n",
       "         0.04373558,  0.02994582,  0.03254256,  0.04723693,  0.00625185,\n",
       "         0.02125665,  0.04089324,  0.54722101,  0.43719302,  0.55978769])]"
      ]
     },
     "execution_count": 8,
     "metadata": {},
     "output_type": "execute_result"
    }
   ],
   "source": [
    "l.get_data(case_id)"
   ]
  },
  {
   "cell_type": "code",
   "execution_count": 9,
   "id": "cbae72b5-26b2-4a55-82cc-81bb40e09e07",
   "metadata": {},
   "outputs": [
    {
     "name": "stdout",
     "output_type": "stream",
     "text": [
      "Cluster_id for case T1_594\n"
     ]
    },
    {
     "data": {
      "text/plain": [
       "array([[ 4, 12,  5,  2, 15, 12, 14,  6]], dtype=int32)"
      ]
     },
     "execution_count": 9,
     "metadata": {},
     "output_type": "execute_result"
    }
   ],
   "source": [
    "cluster_id = l.give_cluster_id(case_id)\n",
    "cluster_id"
   ]
  },
  {
   "cell_type": "code",
   "execution_count": 10,
   "id": "f378a606-c3c7-43a9-a386-e0d82b0743f4",
   "metadata": {},
   "outputs": [
    {
     "name": "stdout",
     "output_type": "stream",
     "text": [
      "See all individuals with cluster-id: [ 4 12  5  2 15 12 14  6].\n",
      "[CaseIDs,   Objectives,   Fitness-Werte,   Fitness-Mittelwert, Eta, dH , VCav, P ]\n"
     ]
    },
    {
     "data": {
      "text/plain": [
       "[array(['T1_594_all'], dtype='<U10'),\n",
       " array([[-0.06271652, -0.03919215, -0.13290157,  0.01856896,  0.02762934,\n",
       "         -0.00737009,  1.40571374,  1.16890676,  1.35450633,  0.4140224 ,\n",
       "          0.44333802,  0.52739265, -0.04833411, -0.09692301, -0.1216935 ,\n",
       "          0.55247893,  0.87912153,  1.18555713,  0.05316972,  0.05490793,\n",
       "          0.04373558,  0.02994582,  0.03254256,  0.04723693,  0.00625185,\n",
       "          0.02125665,  0.04089324,  0.54722101,  0.43719302,  0.55978769]]),\n",
       " array([[0.07425706, 0.00443709, 0.17093984]]),\n",
       " array([0.08321133]),\n",
       " array([[-0.91794817, -0.92980311, -0.92947754]]),\n",
       " array([[-1.59257245, -2.57093984, -3.52789033]]),\n",
       " array([[3.03431600e-07, 2.14024556e-03, 1.11707201e-02]]),\n",
       " array([[-215525.72325141, -414615.67731699, -654055.52512651]])]"
      ]
     },
     "execution_count": 10,
     "metadata": {},
     "output_type": "execute_result"
    }
   ],
   "source": [
    "print(f\"See all individuals with cluster-id: {cluster_id[0]}.\")\n",
    "l.give_fitness(cluster_id)"
   ]
  },
  {
   "cell_type": "code",
   "execution_count": 11,
   "id": "6618019c-e7af-434a-b62b-431e57d1215a",
   "metadata": {},
   "outputs": [
    {
     "name": "stdout",
     "output_type": "stream",
     "text": [
      "Best performing five cluster-ids\n"
     ]
    },
    {
     "data": {
      "text/plain": [
       "[array([10, 15,  1,  6,  7, 11, 19,  3], dtype=int32),\n",
       " array([ 4, 13,  6, 17,  5, 13, 10, 11], dtype=int32),\n",
       " array([ 4,  7,  5,  2, 15, 12, 10,  6], dtype=int32),\n",
       " array([18, 10,  8,  2, 11, 18,  7,  8], dtype=int32),\n",
       " array([ 4,  4,  6, 17,  5, 18,  1,  1], dtype=int32)]"
      ]
     },
     "execution_count": 11,
     "metadata": {},
     "output_type": "execute_result"
    }
   ],
   "source": [
    "print('Best performing five cluster-ids')\n",
    "l.cluster_ids_valued[0][0:5]"
   ]
  },
  {
   "cell_type": "code",
   "execution_count": 12,
   "id": "e11a59d2-7a60-4bc9-9ed1-5fc493db8bee",
   "metadata": {},
   "outputs": [],
   "source": [
    "#l.give_fitness(l.cluster_ids_valued[0][2])"
   ]
  },
  {
   "cell_type": "markdown",
   "id": "1bf725ed-b1ba-418a-afa4-84184f85a50a",
   "metadata": {},
   "source": [
    "#### Plot Pressure Field of Cluster-ID: ####"
   ]
  },
  {
   "cell_type": "code",
   "execution_count": 13,
   "id": "745c8e5e-ffa0-4c05-a6fb-72690d164e5e",
   "metadata": {},
   "outputs": [
    {
     "name": "stdout",
     "output_type": "stream",
     "text": [
      "Time taken for sorting and loading File-List: 18.16393804550171 seconds\n",
      "Time taken for loading: 0.26793861389160156 seconds\n",
      "Loaded Tensors from  b1\n",
      "Time taken for sorting and loading File-List: 0.12474346160888672 seconds\n",
      "Time taken for loading: 0.2523059844970703 seconds\n",
      "Loaded Tensors from  b2\n",
      "Time taken for sorting and loading File-List: 0.12136626243591309 seconds\n",
      "Time taken for loading: 0.23044276237487793 seconds\n",
      "Loaded Tensors from  b3\n",
      "Time taken for sorting and loading File-List: 0.1298520565032959 seconds\n",
      "Time taken for loading: 0.2351388931274414 seconds\n",
      "Loaded Tensors from  b4\n",
      "Time taken for sorting and loading File-List: 0.13251113891601562 seconds\n",
      "Time taken for loading: 1.4530694484710693 seconds\n",
      "Loaded Tensors from  b5\n",
      "Time taken for sorting and loading File-List: 0.1251065731048584 seconds\n",
      "Time taken for loading: 3.595165967941284 seconds\n",
      "Loaded Tensors from  b6\n",
      "Time taken for sorting and loading File-List: 0.1263425350189209 seconds\n",
      "Time taken for loading: 3.6354129314422607 seconds\n",
      "Loaded Tensors from  b7\n",
      "Time taken for sorting and loading File-List: 0.12513065338134766 seconds\n",
      "Time taken for loading: 3.6635818481445312 seconds\n",
      "Loaded Tensors from  b8\n",
      "Final Scaling Factors: Channels: [1,2,3,4]\n",
      "[0.011169332913994783, 0.3874513296081335, 0.10034844128560476, 0.09539330579485293]\n",
      "Normalized Tensors.\n"
     ]
    }
   ],
   "source": [
    "### you must reload Tensors befor plotting is possible ###\n",
    "l.load_tensors()"
   ]
  },
  {
   "cell_type": "code",
   "execution_count": 14,
   "id": "27b5a84e-8b17-4ec0-85b0-2056079553e1",
   "metadata": {},
   "outputs": [
    {
     "data": {
      "image/png": "[encoded data removed]",
      "text/plain": [
       "<Figure size 1800x500 with 1 Axes>"
      ]
     },
     "metadata": {},
     "output_type": "display_data"
    }
   ],
   "source": [
    "l.plot_tensor_all(cluster_id[0])"
   ]
  },
  {
   "cell_type": "markdown",
   "id": "17cb5e17-d1d7-4e42-b8a5-4597e40a263c",
   "metadata": {},
   "source": [
    "#### Recommendation and Prediction based on DOFs (x): ####\n",
    "Obviously, already simulated cases aren't that hard to predict.\n",
    "But nevertheless here given as an example:"
   ]
  },
  {
   "cell_type": "code",
   "execution_count": 15,
   "id": "b9063542-dea0-4bd2-97fc-05405a0388e4",
   "metadata": {
    "scrolled": true
   },
   "outputs": [
    {
     "name": "stdout",
     "output_type": "stream",
     "text": [
      "Recommendation for DOFs:\n",
      "\n",
      "EVAL CONTER = 1\n",
      "Recommend Sim: True. Known Cluster_ID: True. Gaussian Estimation: False.\n",
      "Predicted Fitness: [0.07425706 0.00443709 0.17093984]\n",
      "Correct Fitness: [0.07425706 0.00443709 0.17093984]\n"
     ]
    }
   ],
   "source": [
    "case_id = 594\n",
    "x = l.case_data[1][case_id - 1 ]\n",
    "\n",
    "print(\"Recommendation for DOFs:\\n\")\n",
    "recommend = l.recommend_sim([x])\n",
    "\n",
    "print(f'Correct Fitness: {l.case_data[2][case_id-1]}')"
   ]
  },
  {
   "cell_type": "code",
   "execution_count": 16,
   "id": "069b9bf3-517f-4c80-a474-34aaa903855f",
   "metadata": {},
   "outputs": [],
   "source": [
    "#### Test on unkown data: ###"
   ]
  },
  {
   "cell_type": "code",
   "execution_count": 17,
   "id": "2063c393-a812-4a33-bec3-d8e35cb1c120",
   "metadata": {},
   "outputs": [],
   "source": [
    "objectives = np.load('./prediction_data/objectives.npy')\n",
    "fitness_resimulated = np.load('./prediction_data/fitness.npy')"
   ]
  },
  {
   "cell_type": "code",
   "execution_count": 18,
   "id": "1d2771a7-1d68-42d7-9667-ed5d63a42636",
   "metadata": {},
   "outputs": [
    {
     "name": "stdout",
     "output_type": "stream",
     "text": [
      "EVAL CONTER = 2\n",
      "Recommend Sim: False. Known Cluster_ID: True. Gaussian Estimation: False.\n",
      "Predicted Fitness: [0.09107862 0.00443665 0.03530737]\n",
      "Correct Fitness: [0.09333277 0.00439002 0.0331774 ].\n"
     ]
    }
   ],
   "source": [
    "#case_predict = np.random.randint(0,objectives.shape[0])\n",
    "case_predict = 1\n",
    "recommend = l.recommend_sim([objectives[case_predict]])\n",
    "print(f\"Correct Fitness: {fitness_resimulated[case_predict]}.\")"
   ]
  },
  {
   "cell_type": "code",
   "execution_count": null,
   "id": "fe9257b1-4fe9-4701-86d6-4d4b029b65ba",
   "metadata": {},
   "outputs": [],
   "source": []
  }
 ],
 "metadata": {
  "kernelspec": {
   "display_name": "Python 3 (ipykernel)",
   "language": "python",
   "name": "python3"
  },
  "language_info": {
   "codemirror_mode": {
    "name": "ipython",
    "version": 3
   },
   "file_extension": ".py",
   "mimetype": "text/x-python",
   "name": "python",
   "nbconvert_exporter": "python",
   "pygments_lexer": "ipython3",
   "version": "3.11.10"
  }
 },
 "nbformat": 4,
 "nbformat_minor": 5
}
